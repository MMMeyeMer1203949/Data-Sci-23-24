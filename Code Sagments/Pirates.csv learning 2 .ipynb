{
 "cells": [
  {
   "cell_type": "code",
   "execution_count": 19,
   "id": "152e7016",
   "metadata": {},
   "outputs": [
    {
     "data": {
      "text/plain": [
       "'1.4.4'"
      ]
     },
     "execution_count": 19,
     "metadata": {},
     "output_type": "execute_result"
    }
   ],
   "source": [
    "import pandas as pd\n",
    "pd.__version__"
   ]
  },
  {
   "cell_type": "code",
   "execution_count": 20,
   "id": "5f1b1edf",
   "metadata": {},
   "outputs": [
    {
     "data": {
      "text/plain": [
       "id                   int64\n",
       "sex                 object\n",
       "age                float64\n",
       "height             float64\n",
       "weight             float64\n",
       "headband            object\n",
       "college             object\n",
       "tattoos              int64\n",
       "tchests              int64\n",
       "parrots             object\n",
       "favorite.pirate     object\n",
       "sword.type          object\n",
       "eyepatch             int64\n",
       "sword.time         float64\n",
       "beard.length         int64\n",
       "fav.pixar           object\n",
       "grogg                int64\n",
       "dtype: object"
      ]
     },
     "execution_count": 20,
     "metadata": {},
     "output_type": "execute_result"
    }
   ],
   "source": [
    "p = pd.read_csv(\"pirates2.csv\")\n",
    "p.dtypes"
   ]
  },
  {
   "cell_type": "code",
   "execution_count": 21,
   "id": "2ee56e2c",
   "metadata": {},
   "outputs": [
    {
     "data": {
      "text/plain": [
       "id                   int64\n",
       "sex                 object\n",
       "age                float64\n",
       "height             float64\n",
       "weight             float64\n",
       "headband            object\n",
       "college             object\n",
       "tattoos              int64\n",
       "tchests              int64\n",
       "parrots             object\n",
       "favorite.pirate     object\n",
       "sword.type          object\n",
       "eyepatch             int64\n",
       "sword.time         float64\n",
       "beard.length         int64\n",
       "fav.pixar           object\n",
       "grogg                int64\n",
       "dtype: object"
      ]
     },
     "execution_count": 21,
     "metadata": {},
     "output_type": "execute_result"
    }
   ],
   "source": [
    "p.dtypes"
   ]
  },
  {
   "cell_type": "code",
   "execution_count": 22,
   "id": "94e1f66c",
   "metadata": {},
   "outputs": [
    {
     "data": {
      "text/plain": [
       "3"
      ]
     },
     "execution_count": 22,
     "metadata": {},
     "output_type": "execute_result"
    }
   ],
   "source": [
    "p[\"sex\"].nunique()"
   ]
  },
  {
   "cell_type": "code",
   "execution_count": 23,
   "id": "08b38af0",
   "metadata": {},
   "outputs": [
    {
     "data": {
      "text/plain": [
       "69.74459999999992"
      ]
     },
     "execution_count": 23,
     "metadata": {},
     "output_type": "execute_result"
    }
   ],
   "source": [
    "p.loc[:, 'weight'].mean()"
   ]
  },
  {
   "cell_type": "code",
   "execution_count": 24,
   "id": "5d0b5482",
   "metadata": {},
   "outputs": [
    {
     "ename": "ValueError",
     "evalue": "The truth value of a Series is ambiguous. Use a.empty, a.bool(), a.item(), a.any() or a.all().",
     "output_type": "error",
     "traceback": [
      "\u001b[1;31m---------------------------------------------------------------------------\u001b[0m",
      "\u001b[1;31mValueError\u001b[0m                                Traceback (most recent call last)",
      "\u001b[1;32m~\\AppData\\Local\\Temp\\ipykernel_3192\\588611417.py\u001b[0m in \u001b[0;36m<module>\u001b[1;34m\u001b[0m\n\u001b[1;32m----> 1\u001b[1;33m \u001b[1;32mif\u001b[0m \u001b[0mp\u001b[0m\u001b[1;33m[\u001b[0m\u001b[1;34m\"sex\"\u001b[0m\u001b[1;33m]\u001b[0m \u001b[1;33m==\u001b[0m \u001b[1;34m'female'\u001b[0m\u001b[1;33m:\u001b[0m\u001b[1;33m\u001b[0m\u001b[1;33m\u001b[0m\u001b[0m\n\u001b[0m\u001b[0;32m      2\u001b[0m     \u001b[0mp\u001b[0m\u001b[1;33m.\u001b[0m\u001b[0mloc\u001b[0m\u001b[1;33m[\u001b[0m\u001b[1;33m:\u001b[0m\u001b[1;33m,\u001b[0m \u001b[1;34m'weight'\u001b[0m\u001b[1;33m]\u001b[0m\u001b[1;33m.\u001b[0m\u001b[0mmean\u001b[0m\u001b[1;33m(\u001b[0m\u001b[1;33m)\u001b[0m\u001b[1;33m\u001b[0m\u001b[1;33m\u001b[0m\u001b[0m\n",
      "\u001b[1;32mC:\\ProgramData\\Anaconda3\\lib\\site-packages\\pandas\\core\\generic.py\u001b[0m in \u001b[0;36m__nonzero__\u001b[1;34m(self)\u001b[0m\n\u001b[0;32m   1525\u001b[0m     \u001b[1;33m@\u001b[0m\u001b[0mfinal\u001b[0m\u001b[1;33m\u001b[0m\u001b[1;33m\u001b[0m\u001b[0m\n\u001b[0;32m   1526\u001b[0m     \u001b[1;32mdef\u001b[0m \u001b[0m__nonzero__\u001b[0m\u001b[1;33m(\u001b[0m\u001b[0mself\u001b[0m\u001b[1;33m)\u001b[0m\u001b[1;33m:\u001b[0m\u001b[1;33m\u001b[0m\u001b[1;33m\u001b[0m\u001b[0m\n\u001b[1;32m-> 1527\u001b[1;33m         raise ValueError(\n\u001b[0m\u001b[0;32m   1528\u001b[0m             \u001b[1;34mf\"The truth value of a {type(self).__name__} is ambiguous. \"\u001b[0m\u001b[1;33m\u001b[0m\u001b[1;33m\u001b[0m\u001b[0m\n\u001b[0;32m   1529\u001b[0m             \u001b[1;34m\"Use a.empty, a.bool(), a.item(), a.any() or a.all().\"\u001b[0m\u001b[1;33m\u001b[0m\u001b[1;33m\u001b[0m\u001b[0m\n",
      "\u001b[1;31mValueError\u001b[0m: The truth value of a Series is ambiguous. Use a.empty, a.bool(), a.item(), a.any() or a.all()."
     ]
    }
   ],
   "source": [
    "if p[\"sex\"] == 'female':\n",
    "    p.loc[:, 'weight'].mean()"
   ]
  },
  {
   "cell_type": "code",
   "execution_count": null,
   "id": "380be37e",
   "metadata": {},
   "outputs": [],
   "source": []
  },
  {
   "cell_type": "code",
   "execution_count": null,
   "id": "c8b43df6",
   "metadata": {},
   "outputs": [],
   "source": [
    "numb=0\n",
    "if (p['weight']) < 100:\n",
    "    numb+=1"
   ]
  },
  {
   "cell_type": "code",
   "execution_count": null,
   "id": "6da904f3",
   "metadata": {},
   "outputs": [],
   "source": [
    "count = 0\n",
    "for i in p[\"weight\"]:\n",
    "    if i < 45.35:\n",
    "        count += 1\n",
    "print(count/len(p[\"weight\"]) *100 ) "
   ]
  },
  {
   "cell_type": "code",
   "execution_count": null,
   "id": "9e12a101",
   "metadata": {},
   "outputs": [],
   "source": [
    "p[\"weight_lb\"] = p[\"weight\"]*2.2\n",
    "precent = (p[\"weight_lb\"] < 100).mean() * 100\n",
    "print(precent)"
   ]
  },
  {
   "cell_type": "code",
   "execution_count": null,
   "id": "3515b136",
   "metadata": {},
   "outputs": [],
   "source": [
    "short = 0\n",
    "for i in p[\"height\"]:\n",
    "    if short > p[\"height\"]:\n",
    "        short = p[\"height\"]\n",
    "print(short)"
   ]
  },
  {
   "cell_type": "code",
   "execution_count": null,
   "id": "6b92515d",
   "metadata": {},
   "outputs": [],
   "source": [
    "min = p[\"hieght\"].min()\n",
    "print(idx)"
   ]
  },
  {
   "cell_type": "code",
   "execution_count": null,
   "id": "b7bee903",
   "metadata": {
    "scrolled": true
   },
   "outputs": [],
   "source": [
    "pn = pd.read_csv(\"PirateNewRow.csv\")\n",
    "p.append(pn)\n",
    "p.reset_index"
   ]
  },
  {
   "cell_type": "code",
   "execution_count": null,
   "id": "0a8d7748",
   "metadata": {},
   "outputs": [],
   "source": [
    "\n",
    "pc = pd.read_csv(\"PirateNewColumnNew - PirateNewColumn.csv\")\n",
    "p = p.assign(address=[pc])"
   ]
  },
  {
   "cell_type": "code",
   "execution_count": null,
   "id": "72c82246",
   "metadata": {},
   "outputs": [],
   "source": []
  },
  {
   "cell_type": "code",
   "execution_count": null,
   "id": "1246e75f",
   "metadata": {},
   "outputs": [],
   "source": []
  }
 ],
 "metadata": {
  "kernelspec": {
   "display_name": "Python 3 (ipykernel)",
   "language": "python",
   "name": "python3"
  },
  "language_info": {
   "codemirror_mode": {
    "name": "ipython",
    "version": 3
   },
   "file_extension": ".py",
   "mimetype": "text/x-python",
   "name": "python",
   "nbconvert_exporter": "python",
   "pygments_lexer": "ipython3",
   "version": "3.9.13"
  }
 },
 "nbformat": 4,
 "nbformat_minor": 5
}
