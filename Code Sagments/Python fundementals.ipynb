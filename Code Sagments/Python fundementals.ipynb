{
 "cells": [
  {
   "cell_type": "code",
   "execution_count": 60,
   "metadata": {
    "id": "bIBt_FTuvB7O"
   },
   "outputs": [],
   "source": [
    "pirates = {\n",
    "    \"Pirate\":[\"Blackbeard\", \"Anne Bonny\", \"Calico Jack\", \"Cheung Po Tsai\", \"Grace O'Malley\", \"Mary Read\", \"Sayyida al Hurra\", \"Ching Shih\", \"Sir Francis Drake\", \"Jean Lafittte\"],\n",
    "    \"Sex\":[\"M\", \"F\", \"M\", \"M\", \"F\", \"F\", \"F\", \"F\", \"M\", \"M\"],\n",
    "    \"Age at Death\":[40, 24, 37, 39, 73, 36, 75, 69, 56, 46],\n",
    "    \"Height\":[6.4, 5.6, 5.6, 5.3, 5.0, 5.1, \"\", 5.3, 5.5, 6.2],\n",
    "    \"Skull and Crossbones\":[False, True, True, False, False, True, False, False, False, False]\n",
    "}"
   ]
  },
  {
   "cell_type": "code",
   "execution_count": 70,
   "metadata": {
    "scrolled": true
   },
   "outputs": [
    {
     "name": "stdout",
     "output_type": "stream",
     "text": [
      "Blackbeard\n",
      "M\n",
      "40\n",
      "6.4\n",
      "False\n"
     ]
    }
   ],
   "source": [
    "x=0\n",
    "print(pirates[\"Pirate\"][x])\n",
    "print(pirates[\"Sex\"][x])\n",
    "print(pirates[\"Age at Death\"][x])\n",
    "print(pirates[\"Height\"][x])\n",
    "print(pirates[\"Skull and Crossbones\"][x])"
   ]
  },
  {
   "cell_type": "code",
   "execution_count": 63,
   "metadata": {},
   "outputs": [
    {
     "name": "stdout",
     "output_type": "stream",
     "text": [
      "Blackbeard\n",
      "M\n",
      "40\n",
      "6.4\n",
      "False\n"
     ]
    }
   ],
   "source": [
    "for i in pirates:\n",
    "    print(pirates[i][0])"
   ]
  },
  {
   "cell_type": "code",
   "execution_count": 68,
   "metadata": {
    "scrolled": false
   },
   "outputs": [
    {
     "name": "stdout",
     "output_type": "stream",
     "text": [
      "False\n",
      "False\n",
      "False\n",
      "False\n",
      "True\n",
      "False\n",
      "False\n",
      "True\n",
      "True\n",
      "False\n"
     ]
    }
   ],
   "source": [
    "for skull in reversed(pirates[\"Skull and Crossbones\"]):\n",
    "    print(skull)"
   ]
  },
  {
   "cell_type": "code",
   "execution_count": 69,
   "metadata": {},
   "outputs": [
    {
     "name": "stdout",
     "output_type": "stream",
     "text": [
      "[False, False, False, False, True, False, False, True, True, False]\n"
     ]
    }
   ],
   "source": [
    "print(pirates[\"Skull and Crossbones\"][::-1])"
   ]
  },
  {
   "cell_type": "code",
   "execution_count": 82,
   "metadata": {},
   "outputs": [
    {
     "name": "stdout",
     "output_type": "stream",
     "text": [
      "['Blackbeard', 'Anne Bonny', 'Calico Jack', 'Cheung Po Tsai', \"Grace O'Malley\", 'Mary Read', 'Sayyida al Hurra', 'Ching Shih', 'Sir Francis Drake', 'Jean Lafittte']\n",
      "[40, 24, 37, 39, 73, 36, 75, 69, 56, 46]\n",
      "[False, True, True, False, False, True, False, False, False, False]\n"
     ]
    }
   ],
   "source": [
    "print(pirates[\"Pirate\"][::1])\n",
    "print(pirates[\"Age at Death\"][::1])\n",
    "print(pirates[\"Skull and Crossbones\"][::1])"
   ]
  },
  {
   "cell_type": "code",
   "execution_count": 85,
   "metadata": {},
   "outputs": [
    {
     "name": "stdout",
     "output_type": "stream",
     "text": [
      "['Blackbeard', 'Anne Bonny', 'Calico Jack', 'Cheung Po Tsai', \"Grace O'Malley\", 'Mary Read', 'Sayyida al Hurra', 'Ching Shih', 'Sir Francis Drake', 'Jean Lafittte']\n",
      "['M', 'F', 'M', 'M', 'F', 'F', 'F', 'F', 'M', 'M']\n",
      "[40, 24, 37, 39, 73, 36, 75, 69, 56, 46]\n",
      "[6.4, 5.6, 5.6, 5.3, 5.0, 5.1, '', 5.3, 5.5, 6.2]\n",
      "[False, True, True, False, False, True, False, False, False, False]\n"
     ]
    }
   ],
   "source": [
    "for i in pirates:\n",
    "    print(pirates[i][::1])"
   ]
  },
  {
   "cell_type": "code",
   "execution_count": 98,
   "metadata": {},
   "outputs": [
    {
     "name": "stdout",
     "output_type": "stream",
     "text": [
      "Blackbeard\n",
      "40\n",
      "False\n",
      "Anne Bonny\n",
      "24\n",
      "True\n",
      "Calico Jack\n",
      "37\n",
      "True\n",
      "Cheung Po Tsai\n",
      "39\n",
      "False\n",
      "Grace O'Malley\n",
      "73\n",
      "False\n",
      "Mary Read\n",
      "36\n",
      "True\n",
      "Sayyida al Hurra\n",
      "75\n",
      "False\n",
      "Ching Shih\n",
      "69\n",
      "False\n",
      "Sir Francis Drake\n",
      "56\n",
      "False\n",
      "Jean Lafittte\n",
      "46\n",
      "False\n"
     ]
    }
   ],
   "source": [
    "for i in range(0, 10):\n",
    "    print(pirates[\"Pirate\"][i]), print(pirates[\"Age at Death\"][i]), print(pirates[\"Skull and Crossbones\"][i]), "
   ]
  },
  {
   "cell_type": "code",
   "execution_count": 131,
   "metadata": {},
   "outputs": [
    {
     "name": "stdout",
     "output_type": "stream",
     "text": [
      "3\n"
     ]
    }
   ],
   "source": [
    "jolly = 0\n",
    "for i in range(0, 10):\n",
    "    if(pirates[\"Skull and Crossbones\"][i])== True:\n",
    "        jolly = jolly + 1\n",
    "print(jolly)"
   ]
  },
  {
   "cell_type": "code",
   "execution_count": 142,
   "metadata": {},
   "outputs": [
    {
     "ename": "SyntaxError",
     "evalue": "invalid syntax (3129036633.py, line 9)",
     "output_type": "error",
     "traceback": [
      "\u001b[1;36m  File \u001b[1;32m\"C:\\Users\\mmeyer\\AppData\\Local\\Temp\\ipykernel_6188\\3129036633.py\"\u001b[1;36m, line \u001b[1;32m9\u001b[0m\n\u001b[1;33m    Male += 1\u001b[0m\n\u001b[1;37m    ^\u001b[0m\n\u001b[1;31mSyntaxError\u001b[0m\u001b[1;31m:\u001b[0m invalid syntax\n"
     ]
    }
   ],
   "source": [
    "Maleage =0\n",
    "Femaleage =0 \n",
    "MaleC =0\n",
    "FemaleC =0\n",
    "\n",
    "for i in range(0, 10):\n",
    "    if(pirates[\"Sex\"][i])== M:\n",
    "        Maleage + (pirates[\"Age at Death\"][i]\n",
    "        MaleC += 1\n",
    "    else:\n",
    "        Femaleage + (pirates[\"Age at Death\"][i]\n",
    "        FemaleC += 1"
   ]
  },
  {
   "cell_type": "code",
   "execution_count": null,
   "metadata": {},
   "outputs": [],
   "source": []
  }
 ],
 "metadata": {
  "colab": {
   "provenance": []
  },
  "kernelspec": {
   "display_name": "Python 3 (ipykernel)",
   "language": "python",
   "name": "python3"
  },
  "language_info": {
   "codemirror_mode": {
    "name": "ipython",
    "version": 3
   },
   "file_extension": ".py",
   "mimetype": "text/x-python",
   "name": "python",
   "nbconvert_exporter": "python",
   "pygments_lexer": "ipython3",
   "version": "3.9.13"
  }
 },
 "nbformat": 4,
 "nbformat_minor": 1
}
