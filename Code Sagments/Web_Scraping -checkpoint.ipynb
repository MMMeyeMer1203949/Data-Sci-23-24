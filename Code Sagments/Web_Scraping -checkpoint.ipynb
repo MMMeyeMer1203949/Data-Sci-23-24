{
 "cells": [
  {
   "cell_type": "code",
   "execution_count": 1,
   "id": "35b26e79",
   "metadata": {},
   "outputs": [],
   "source": [
    "import pandas as pd\n",
    "import seaborn as sns\n",
    "import matplotlib.pyplot as plt\n",
    "#https://en.wikipedia.org/wiki/Toilet_paper_orientation\n",
    "import requests "
   ]
  },
  {
   "cell_type": "code",
   "execution_count": 17,
   "id": "a02d63c2",
   "metadata": {},
   "outputs": [],
   "source": [
    "from bs4 import BeautifulSoup as bs"
   ]
  },
  {
   "cell_type": "code",
   "execution_count": 10,
   "id": "98361417",
   "metadata": {},
   "outputs": [],
   "source": [
    "url = \"https://en.wikipedia.org/wiki/Toilet_paper_orientation\""
   ]
  },
  {
   "cell_type": "code",
   "execution_count": 11,
   "id": "f4417682",
   "metadata": {},
   "outputs": [
    {
     "ename": "NameError",
     "evalue": "name 'response' is not defined",
     "output_type": "error",
     "traceback": [
      "\u001b[1;31m---------------------------------------------------------------------------\u001b[0m",
      "\u001b[1;31mNameError\u001b[0m                                 Traceback (most recent call last)",
      "\u001b[1;32m~\\AppData\\Local\\Temp\\ipykernel_17324\\696238585.py\u001b[0m in \u001b[0;36m<module>\u001b[1;34m\u001b[0m\n\u001b[1;32m----> 1\u001b[1;33m \u001b[0mresponse\u001b[0m \u001b[1;33m=\u001b[0m \u001b[0mresponse\u001b[0m\u001b[1;33m.\u001b[0m\u001b[0mgrt\u001b[0m\u001b[1;33m(\u001b[0m\u001b[0murl\u001b[0m\u001b[1;33m)\u001b[0m\u001b[1;33m\u001b[0m\u001b[1;33m\u001b[0m\u001b[0m\n\u001b[0m",
      "\u001b[1;31mNameError\u001b[0m: name 'response' is not defined"
     ]
    }
   ],
   "source": [
    "response = response.grt(url)"
   ]
  },
  {
   "cell_type": "code",
   "execution_count": null,
   "id": "ff03663b",
   "metadata": {},
   "outputs": [],
   "source": []
  },
  {
   "cell_type": "code",
   "execution_count": 12,
   "id": "02c73699",
   "metadata": {},
   "outputs": [
    {
     "ename": "SyntaxError",
     "evalue": "invalid syntax (563290881.py, line 3)",
     "output_type": "error",
     "traceback": [
      "\u001b[1;36m  File \u001b[1;32m\"C:\\Users\\mmeyer\\AppData\\Local\\Temp\\ipykernel_17324\\563290881.py\"\u001b[1;36m, line \u001b[1;32m3\u001b[0m\n\u001b[1;33m    <html>\u001b[0m\n\u001b[1;37m    ^\u001b[0m\n\u001b[1;31mSyntaxError\u001b[0m\u001b[1;31m:\u001b[0m invalid syntax\n"
     ]
    }
   ],
   "source": [
    ">>> soup = BeautifulSoup(\"<p>Some<b>bad<i>HTML\")\n",
    ">>> print(soup.prettify())\n",
    "<html>\n",
    " <body>\n",
    "  <p>\n",
    "   Some\n",
    "   <b>\n",
    "    bad\n",
    "    <i>\n",
    "     HTML\n",
    "    </i>\n",
    "   </b>\n",
    "  </p>\n",
    " </body>\n",
    "</html>\n",
    ">>> soup.find(text=\"bad\")\n",
    "'bad'\n",
    ">>> soup.i\n",
    "<i>HTML</i>\n",
    "#\n",
    ">>> soup = BeautifulSoup(\"<tag1>Some<tag2/>bad<tag3>XML\", \"xml\")\n",
    "#\n",
    ">>> print(soup.prettify())\n",
    "<?xml version=\"1.0\" encoding=\"utf-8\"?>\n",
    "<tag1>\n",
    " Some\n",
    " <tag2/>\n",
    " bad\n",
    " <tag3>\n",
    "  XML\n",
    " </tag3>\n",
    "</tag1>"
   ]
  },
  {
   "cell_type": "code",
   "execution_count": null,
   "id": "22b02bca",
   "metadata": {},
   "outputs": [],
   "source": []
  },
  {
   "cell_type": "code",
   "execution_count": 13,
   "id": "ac96d920",
   "metadata": {},
   "outputs": [],
   "source": [
    "url2 = \"https://en.wikipedia.org/wiki/World_War_II\"\n",
    "#How many links are on WWII page"
   ]
  },
  {
   "cell_type": "code",
   "execution_count": 14,
   "id": "59c10957",
   "metadata": {},
   "outputs": [
    {
     "ename": "NameError",
     "evalue": "name 'response' is not defined",
     "output_type": "error",
     "traceback": [
      "\u001b[1;31m---------------------------------------------------------------------------\u001b[0m",
      "\u001b[1;31mNameError\u001b[0m                                 Traceback (most recent call last)",
      "\u001b[1;32m~\\AppData\\Local\\Temp\\ipykernel_17324\\2534255286.py\u001b[0m in \u001b[0;36m<module>\u001b[1;34m\u001b[0m\n\u001b[1;32m----> 1\u001b[1;33m \u001b[0mresponse\u001b[0m \u001b[1;33m=\u001b[0m \u001b[0mresponse\u001b[0m\u001b[1;33m.\u001b[0m\u001b[0mget\u001b[0m\u001b[1;33m(\u001b[0m\u001b[0murl2\u001b[0m\u001b[1;33m)\u001b[0m\u001b[1;33m\u001b[0m\u001b[1;33m\u001b[0m\u001b[0m\n\u001b[0m",
      "\u001b[1;31mNameError\u001b[0m: name 'response' is not defined"
     ]
    }
   ],
   "source": [
    "response = response.get(url2)"
   ]
  },
  {
   "cell_type": "code",
   "execution_count": 19,
   "id": "64d51d7d",
   "metadata": {},
   "outputs": [
    {
     "name": "stdout",
     "output_type": "stream",
     "text": [
      "{'Battle of Stalingrad': '/wiki/Battle_of_Stalingrad', 'Battle of Berlin': '/wiki/Battle_of_Berlin', 'Atlantic': '/wiki/Battle_of_the_Atlantic', 'Central Africa': '/wiki/Battle_of_Gabon', 'Caribbean': '/wiki/Battle_of_the_Caribbean', 'South America': '/wiki/Battle_of_the_River_Plate', 'France and Benelux': '/wiki/Battle_of_France', 'Britain': '/wiki/Battle_of_Britain', 'Mediterranean Sea': '/wiki/Battle_of_the_Mediterranean', 'Madagascar': '/wiki/Battle_of_Madagascar', 'fall of France': '/wiki/Battle_of_France', 'Battle of Britain': '/wiki/Battle_of_Britain', 'Battle of the Atlantic': '/wiki/Battle_of_the_Atlantic', 'Battle of Midway': '/wiki/Battle_of_Midway', 'Stalingrad': '/wiki/Battle_of_Stalingrad', 'Fall of Berlin': '/wiki/Battle_of_Berlin', 'Battles of Khalkhin Gol': '/wiki/Battles_of_Khalkhin_Gol', 'Rehe': '/wiki/Battle_of_Rehe', 'Battle of Shanghai': '/wiki/Battle_of_Shanghai', 'Taiyuan': '/wiki/Battle_of_Taiyuan', 'around Xinkou': '/wiki/Battle_of_Xinkou', 'in Pingxingguan': '/wiki/Battle_of_Pingxingguan', 'defend Shanghai': '/wiki/Battle_of_Shanghai', 'capturing the capital Nanking': '/wiki/Battle_of_Nanking', 'first major victory at Taierzhuang': '/wiki/Battle_of_Taierzhuang', 'was taken by the Japanese': '/wiki/Battle_of_Xuzhou', 'city was taken': '/wiki/Battle_of_Wuhan', 'Battle of Lake Khasan': '/wiki/Battle_of_Lake_Khasan', 'Khalkin Gol': '/wiki/Battles_of_Khalkhin_Gol', 'Polish defenses at Westerplatte': '/wiki/Battle_of_Westerplatte', 'counter-offensive': '/wiki/Battle_of_the_Bzura', 'cease-fire with Japan': '/wiki/Battles_of_Khalkhin_Gol', 'surrendered on 6\\xa0October': '/wiki/Battle_of_Kock_(1939)', 'launched an offensive against France': '/wiki/Battle_of_France', 'Belgium': '/wiki/Battle_of_Belgium', 'the Netherlands': '/wiki/Battle_of_the_Netherlands', 'enjoyed success': \"/wiki/Battle_of_the_Atlantic#'The_Happy_Time'_(June_1940_–_February_1941)\", 'in the Atlantic': '/wiki/Battle_of_the_Atlantic', 'carrier attack at Taranto': '/wiki/Battle_of_Taranto', 'Battle of Cape Matapan': '/wiki/Battle_of_Cape_Matapan', 'Greece': '/wiki/Battle_of_Greece', 'invasion of the Greek island of Crete': '/wiki/Battle_of_Crete', 'suspend the offensive': '/wiki/Battle_of_Smolensk_(1941)', 'Kiev offensive': '/wiki/Battle_of_Kiev_(1941)', 'offensive against Moscow': '/wiki/Battle_of_Moscow', 'first attack against Changsha': '/wiki/Battle_of_Changsha_(1939)', 'entering Hong Kong': '/wiki/Battle_of_Hong_Kong', 'Battle of Shanggao': '/wiki/Battle_of_Shanggao', 'take the city of Changsha': '/wiki/Battle_of_Changsha_(1941)', 'Guam': '/wiki/Battle_of_Guam_(1941)', 'Wake Island': '/wiki/Battle_of_Wake_Island', 'Hong Kong': '/wiki/Battle_of_Hong_Kong', 'Singapore': '/wiki/Battle_of_Singapore', 'Rabaul': '/wiki/Battle_of_Rabaul_(1942)', 'Battle of Yenangyaung': '/wiki/Battle_of_Yenangyaung', 'Java Sea': '/wiki/Battle_of_the_Java_Sea', 'victory at Changsha': '/wiki/Battle_of_Changsha_(1941%E2%80%9342)', 'Battle of the Coral Sea': '/wiki/Battle_of_the_Coral_Sea', 'victory at Midway': '/wiki/Battle_of_Midway', 'Battle of Buna–Gona': '/wiki/Battle_of_Buna%E2%80%93Gona', 'Kerch Peninsula': '/wiki/Battle_of_the_Kerch_Peninsula', 'nearly taken Stalingrad': '/wiki/Battle_of_Stalingrad', 'Gazala line': '/wiki/Battle_of_Gazala#Gazala_line', 'invade the island': '/wiki/Battle_of_Madagascar', 'offensive in Libya': '/wiki/Battle_of_Gazala', 'second attack against El Alamein': '/wiki/Battle_of_Alam_el_Halfa', 'attacked Soviet forces around the Kursk Bulge': '/wiki/Battle_of_Kursk', 'Battle of Kursk': '/wiki/Battle_of_Kursk', 'Smolensk': '/wiki/Battle_of_Smolensk_(1943)', 'Lower Dnieper Offensive': '/wiki/Battle_of_the_Dnieper', 'Battle of Monte Cassino': '/wiki/Battle_of_Monte_Cassino', 'Battle of Changde': '/wiki/Battle_of_Changde', 'series of attacks in Italy against the line at Monte Cassino': '/wiki/Battle_of_Monte_Cassino', 'landings at Anzio': '/wiki/Battle_of_Anzio', 'halted on the pre-war Estonian border': '/wiki/Battle_of_Narva_(1944)', 'Imphal': '/wiki/Battle_of_Imphal', 'Kohima': '/wiki/Battle_of_Kohima', 'invaded northern Burma': '/wiki/Battle_of_Northern_Burma_and_Western_Yunnan', 'new attack on Changsha': '/wiki/Battle_of_Changsha_(1944)', 'Battle of Leyte': '/wiki/Battle_of_Leyte', 'captured Mount Song': '/wiki/Battle_of_Mount_Song', 'captured Changsha': '/wiki/Battle_of_Changsha_(1944)#Battle_of_Changsha', 'Guilin and Liuzhou': '/wiki/Battle_of_Guilin%E2%80%93Liuzhou', 'Battle of the Philippine Sea': '/wiki/Battle_of_the_Philippine_Sea', 'invaded the Filipino island of Leyte': '/wiki/Battle_of_Leyte', 'Battle of Leyte Gulf': '/wiki/Battle_of_Leyte_Gulf', 'a massive counter-offensive in the Ardennes': '/wiki/Battle_of_the_Bulge', 'captured Königsberg': '/wiki/Battle_of_K%C3%B6nigsberg', 'Hamburg': '/wiki/Battle_of_Hamburg_(1945)', 'Nuremberg': '/wiki/Battle_of_Nuremberg_(1945)', 'stormed and captured Berlin': '/wiki/Battle_of_Berlin', 'clearing Leyte': '/wiki/Battle_of_Leyte', 'landed on Luzon': '/wiki/Battle_of_Luzon', 'recaptured Manila': '/wiki/Battle_of_Manila_(1945)', 'Mindanao': '/wiki/Battle_of_Mindanao', 'Battle of West Hunan': '/wiki/Battle_of_West_Hunan', 'Iwo Jima': '/wiki/Battle_of_Iwo_Jima', 'Okinawa': '/wiki/Battle_of_Okinawa', '20 million military personnel': '/wiki/Battle_casualties_of_World_War_II', 'early conflicts against the Soviets': '/wiki/Battles_of_Khalkhin_Gol', 'actions at Taranto': '/wiki/Battle_of_Taranto', 'Coral Sea': '/wiki/Battle_of_the_Coral_Sea', 'battleships': '/wiki/Battleship', 'Battle of South Guangxi': '/wiki/Battle_of_South_Guangxi', 'First Battle of Changsha': '/wiki/Battle_of_Changsha_(1939)', 'France': '/wiki/Battle_of_France', 'Battle of Zaoyang–Yichang': '/wiki/Battle_of_Zaoyang%E2%80%93Yichang', 'Battle of South Henan': '/wiki/Battle_of_South_Henan', 'Battle of South Shanxi': '/wiki/Battle_of_South_Shanxi', 'Shanggao': '/wiki/Battle_of_Shanggao', 'Crete': '/wiki/Battle_of_Crete', 'Kiev': '/wiki/Battle_of_Kiev_(1941)', 'Moscow': '/wiki/Battle_of_Moscow', 'Second Battle of Changsha': '/wiki/Battle_of_Changsha_(1941)', 'Borneo (1941–1942)': '/wiki/Battle_of_Borneo_(1941%E2%80%931942)', 'Third Battle of Changsha': '/wiki/Battle_of_Changsha_(1941%E2%80%931942)', 'Gazala': '/wiki/Battle_of_Gazala', 'Dutch Harbor': '/wiki/Battle_of_Dutch_Harbor', 'Midway': '/wiki/Battle_of_Midway', 'Rzhev': '/wiki/Battle_of_Rzhev,_summer_1942', 'Battle of West Hubei': '/wiki/Battle_of_West_Hubei', 'Kursk': '/wiki/Battle_of_Kursk', 'Attu': '/wiki/Battle_of_Attu', 'Lower Dnieper': '/wiki/Battle_of_the_Dnieper', 'Northern Burma and Western Yunnan': '/wiki/Battle_of_Northern_Burma_and_Western_Yunnan', 'Changde': '/wiki/Battle_of_Changde', 'Monte Cassino': '/wiki/Battle_of_Monte_Cassino', 'Anzio': '/wiki/Battle_of_Anzio', 'Narva': '/wiki/Battle_of_Narva_(1944)', 'Korsun–Cherkassy': '/wiki/Battle_of_Korsun%E2%80%93Cherkassy', 'Tannenberg Line': '/wiki/Battle_of_Tannenberg_Line', 'Leyte': '/wiki/Battle_of_Leyte_Gulf', 'Ardennes': '/wiki/Battle_of_the_Bulge', 'Manila': '/wiki/Battle_of_Manila_(1945)', 'West Hunan': '/wiki/Battle_of_West_Hunan', 'Berlin': '/wiki/Battle_of_Berlin', 'Shumshu': '/wiki/Battle_of_Shumshu'}\n"
     ]
    }
   ],
   "source": [
    "import requests\n",
    "\n",
    "res = requests.get(\"https://en.wikipedia.org/wiki/World_War_II\")\n",
    "soup = bs(res.text, \"html.parser\")\n",
    "Links = {}\n",
    "for link in soup.find_all(\"a\"):\n",
    "    url = link.get(\"href\", \"\")\n",
    "    if \"/wiki/Battle\" in url:\n",
    "        Links[link.text.strip()] = url\n",
    "\n",
    "print(Links)\n"
   ]
  },
  {
   "cell_type": "code",
   "execution_count": 30,
   "id": "9d1b4399",
   "metadata": {},
   "outputs": [],
   "source": [
    "url = 'https://en.wikipedia.org/wiki/World_War_II'\n",
    "r = requests.get(url)\n",
    "html_content = r.text\n",
    "soup = BeautifulSoup(html_content, 'lxml')\n",
    "\n",
    "links = [a.get('href') for a in soup.find_all('a', href=True)]\n"
   ]
  },
  {
   "cell_type": "code",
   "execution_count": 29,
   "id": "6133874b",
   "metadata": {},
   "outputs": [
    {
     "ename": "IndexError",
     "evalue": "list index out of range",
     "output_type": "error",
     "traceback": [
      "\u001b[1;31m---------------------------------------------------------------------------\u001b[0m",
      "\u001b[1;31mIndexError\u001b[0m                                Traceback (most recent call last)",
      "\u001b[1;32m~\\AppData\\Local\\Temp\\ipykernel_17324\\2832103142.py\u001b[0m in \u001b[0;36m<module>\u001b[1;34m\u001b[0m\n\u001b[0;32m      1\u001b[0m \u001b[0mlinks\u001b[0m \u001b[1;33m=\u001b[0m \u001b[0msoup\u001b[0m\u001b[1;33m.\u001b[0m\u001b[0mfind_all\u001b[0m\u001b[1;33m(\u001b[0m\u001b[1;34m'href'\u001b[0m\u001b[1;33m)\u001b[0m\u001b[1;33m\u001b[0m\u001b[1;33m\u001b[0m\u001b[0m\n\u001b[0;32m      2\u001b[0m \u001b[1;33m\u001b[0m\u001b[0m\n\u001b[1;32m----> 3\u001b[1;33m \u001b[0mlink\u001b[0m \u001b[1;33m=\u001b[0m \u001b[0mlinks\u001b[0m\u001b[1;33m[\u001b[0m\u001b[1;36m0\u001b[0m\u001b[1;33m]\u001b[0m\u001b[1;33m\u001b[0m\u001b[1;33m\u001b[0m\u001b[0m\n\u001b[0m",
      "\u001b[1;31mIndexError\u001b[0m: list index out of range"
     ]
    }
   ],
   "source": [
    "links = soup.find_all('href')\n",
    "\n",
    "link = links[0]  "
   ]
  },
  {
   "cell_type": "code",
   "execution_count": null,
   "id": "2fb3af07",
   "metadata": {},
   "outputs": [],
   "source": []
  }
 ],
 "metadata": {
  "kernelspec": {
   "display_name": "Python 3 (ipykernel)",
   "language": "python",
   "name": "python3"
  },
  "language_info": {
   "codemirror_mode": {
    "name": "ipython",
    "version": 3
   },
   "file_extension": ".py",
   "mimetype": "text/x-python",
   "name": "python",
   "nbconvert_exporter": "python",
   "pygments_lexer": "ipython3",
   "version": "3.9.13"
  }
 },
 "nbformat": 4,
 "nbformat_minor": 5
}
